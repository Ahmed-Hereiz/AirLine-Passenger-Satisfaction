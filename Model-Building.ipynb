{
 "cells": [
  {
   "cell_type": "markdown",
   "id": "f56c636e",
   "metadata": {},
   "source": [
    "<h1><center><center><h1><h1><center><span style=\"color:#3495eb\">Machine Learning Model Building\n",
    "</span><center><h1>"
   ]
  },
  {
   "cell_type": "markdown",
   "id": "0ce521b5",
   "metadata": {},
   "source": [
    "## Ok... previouslly we said we will use Pipeline 1 to data processing steps"
   ]
  },
  {
   "cell_type": "markdown",
   "id": "1339cae9",
   "metadata": {},
   "source": [
    "### Now we are going to build the model based on this data processing, these steps is found in `Pipeline.py`"
   ]
  },
  {
   "cell_type": "markdown",
   "id": "af12ab7f",
   "metadata": {},
   "source": [
    "## I will import this file here :"
   ]
  },
  {
   "cell_type": "code",
   "execution_count": 1,
   "id": "09a6ada4",
   "metadata": {},
   "outputs": [
    {
     "data": {
      "text/plain": [
       "<module 'Pipelines' from 'C:\\\\Users\\\\ahmed_nlhvcl\\\\my_tasks\\\\airline passenger\\\\Pipelines.py'>"
      ]
     },
     "execution_count": 1,
     "metadata": {},
     "output_type": "execute_result"
    }
   ],
   "source": [
    "import Pipelines\n",
    "Pipelines"
   ]
  },
  {
   "cell_type": "markdown",
   "id": "b900f91f",
   "metadata": {},
   "source": [
    "# My Librabies :"
   ]
  },
  {
   "cell_type": "code",
   "execution_count": 2,
   "id": "17a5e957",
   "metadata": {},
   "outputs": [],
   "source": [
    "import pandas as pd\n",
    "import numpy as np\n",
    "import matplotlib.pyplot as plt\n",
    "import seaborn as sns\n",
    "from sklearn.ensemble import (RandomForestClassifier, VotingClassifier, BaggingClassifier\n",
    "                              , AdaBoostClassifier, ExtraTreesClassifier)\n",
    "from xgboost import XGBClassifier\n",
    "from lightgbm import LGBMClassifier\n",
    "from sklearn.tree import DecisionTreeClassifier\n",
    "from sklearn.model_selection import cross_val_score, cross_validate\n",
    "from sklearn.metrics import (f1_score, confusion_matrix, accuracy_score, recall_score,\n",
    "                             precision_score, roc_auc_score)\n",
    "from sklearn.model_selection import GridSearchCV\n",
    "from tensorflow.keras.models import Sequential\n",
    "from tensorflow.keras.layers import Dense, Activation , Dropout\n",
    "from tensorflow.keras.callbacks import EarlyStopping"
   ]
  },
  {
   "cell_type": "markdown",
   "id": "8e9786a2",
   "metadata": {},
   "source": [
    "# Remove Warning :"
   ]
  },
  {
   "cell_type": "code",
   "execution_count": 3,
   "id": "f3772abe",
   "metadata": {},
   "outputs": [],
   "source": [
    "import warnings\n",
    "warnings.simplefilter(\"ignore\")"
   ]
  },
  {
   "cell_type": "markdown",
   "id": "0e442527",
   "metadata": {},
   "source": [
    "# Dataset :"
   ]
  },
  {
   "cell_type": "code",
   "execution_count": 4,
   "id": "9e0280ba",
   "metadata": {},
   "outputs": [],
   "source": [
    "X_train = pd.read_csv('Datasets/xtrain_data.csv',index_col='Unnamed: 0')\n",
    "y_train = pd.read_csv('Datasets/ytrain_data.csv',index_col='Unnamed: 0')\n",
    "X_test = pd.read_csv('Datasets/xtest_data.csv',index_col='Unnamed: 0')\n",
    "y_test = pd.read_csv('Datasets/ytest_data.csv',index_col='Unnamed: 0')\n",
    "\n",
    "assert X_train.shape[0] == y_train.shape[0]\n",
    "assert X_test.shape[0] == y_test.shape[0]\n",
    "assert X_train.shape[1] == X_test.shape[1]\n",
    "assert y_train.shape[1] == y_test.shape[1]"
   ]
  },
  {
   "cell_type": "markdown",
   "id": "11335815",
   "metadata": {},
   "source": [
    "### Making data all processing on the `X_train`,`y_train`,`X_test` and `y_test` data"
   ]
  },
  {
   "cell_type": "code",
   "execution_count": 5,
   "id": "5c81d041",
   "metadata": {},
   "outputs": [],
   "source": [
    "test_data = pd.concat([X_test,y_test],axis=1)\n",
    "\n",
    "X_train1, y_train1, full_pipeline, enc = Pipelines.Full_pipeline1(X_train,y_train)\n",
    "X_test1, y_test1 = Pipelines.Production_pipeline(test_data,full_pipeline,enc)\n",
    "\n",
    "X_train = pd.DataFrame(X_train1)\n",
    "y_train = pd.DataFrame(y_train1)\n",
    "X_test = pd.DataFrame(X_test1)\n",
    "y_test = pd.DataFrame(y_test1)\n",
    "\n",
    "# used my custom function"
   ]
  },
  {
   "cell_type": "markdown",
   "id": "90b90abe",
   "metadata": {},
   "source": [
    "### Check my data now :"
   ]
  },
  {
   "cell_type": "code",
   "execution_count": 6,
   "id": "232c3b8f",
   "metadata": {},
   "outputs": [
    {
     "data": {
      "text/html": [
       "<div>\n",
       "<style scoped>\n",
       "    .dataframe tbody tr th:only-of-type {\n",
       "        vertical-align: middle;\n",
       "    }\n",
       "\n",
       "    .dataframe tbody tr th {\n",
       "        vertical-align: top;\n",
       "    }\n",
       "\n",
       "    .dataframe thead th {\n",
       "        text-align: right;\n",
       "    }\n",
       "</style>\n",
       "<table border=\"1\" class=\"dataframe\">\n",
       "  <thead>\n",
       "    <tr style=\"text-align: right;\">\n",
       "      <th></th>\n",
       "      <th>0</th>\n",
       "      <th>1</th>\n",
       "      <th>2</th>\n",
       "      <th>3</th>\n",
       "      <th>4</th>\n",
       "      <th>5</th>\n",
       "      <th>6</th>\n",
       "      <th>7</th>\n",
       "      <th>8</th>\n",
       "      <th>9</th>\n",
       "      <th>...</th>\n",
       "      <th>14</th>\n",
       "      <th>15</th>\n",
       "      <th>16</th>\n",
       "      <th>17</th>\n",
       "      <th>18</th>\n",
       "      <th>19</th>\n",
       "      <th>20</th>\n",
       "      <th>21</th>\n",
       "      <th>22</th>\n",
       "      <th>23</th>\n",
       "    </tr>\n",
       "  </thead>\n",
       "  <tbody>\n",
       "    <tr>\n",
       "      <th>0</th>\n",
       "      <td>0.0</td>\n",
       "      <td>1.0</td>\n",
       "      <td>1.0</td>\n",
       "      <td>0.0</td>\n",
       "      <td>1.0</td>\n",
       "      <td>0.0</td>\n",
       "      <td>0.0</td>\n",
       "      <td>1.211898</td>\n",
       "      <td>1.661366</td>\n",
       "      <td>0.558503</td>\n",
       "      <td>...</td>\n",
       "      <td>-0.759347</td>\n",
       "      <td>-0.343350</td>\n",
       "      <td>1.142295</td>\n",
       "      <td>-0.309582</td>\n",
       "      <td>1.272386</td>\n",
       "      <td>-0.940158</td>\n",
       "      <td>-0.581910</td>\n",
       "      <td>-0.571238</td>\n",
       "      <td>-0.325580</td>\n",
       "      <td>-0.569940</td>\n",
       "    </tr>\n",
       "    <tr>\n",
       "      <th>1</th>\n",
       "      <td>0.0</td>\n",
       "      <td>1.0</td>\n",
       "      <td>0.0</td>\n",
       "      <td>1.0</td>\n",
       "      <td>0.0</td>\n",
       "      <td>1.0</td>\n",
       "      <td>0.0</td>\n",
       "      <td>0.175758</td>\n",
       "      <td>2.145266</td>\n",
       "      <td>-1.853380</td>\n",
       "      <td>...</td>\n",
       "      <td>0.791732</td>\n",
       "      <td>1.221663</td>\n",
       "      <td>-0.384474</td>\n",
       "      <td>1.217966</td>\n",
       "      <td>-0.262098</td>\n",
       "      <td>-1.696979</td>\n",
       "      <td>1.125422</td>\n",
       "      <td>-1.301970</td>\n",
       "      <td>-0.325580</td>\n",
       "      <td>1.130819</td>\n",
       "    </tr>\n",
       "    <tr>\n",
       "      <th>2</th>\n",
       "      <td>0.0</td>\n",
       "      <td>1.0</td>\n",
       "      <td>0.0</td>\n",
       "      <td>1.0</td>\n",
       "      <td>0.0</td>\n",
       "      <td>1.0</td>\n",
       "      <td>0.0</td>\n",
       "      <td>0.624872</td>\n",
       "      <td>-0.819391</td>\n",
       "      <td>-1.317406</td>\n",
       "      <td>...</td>\n",
       "      <td>1.567271</td>\n",
       "      <td>-0.343350</td>\n",
       "      <td>0.378911</td>\n",
       "      <td>1.217966</td>\n",
       "      <td>0.505144</td>\n",
       "      <td>0.573484</td>\n",
       "      <td>0.271756</td>\n",
       "      <td>1.620959</td>\n",
       "      <td>0.432092</td>\n",
       "      <td>1.130819</td>\n",
       "    </tr>\n",
       "    <tr>\n",
       "      <th>3</th>\n",
       "      <td>0.0</td>\n",
       "      <td>1.0</td>\n",
       "      <td>1.0</td>\n",
       "      <td>0.0</td>\n",
       "      <td>1.0</td>\n",
       "      <td>0.0</td>\n",
       "      <td>0.0</td>\n",
       "      <td>1.214399</td>\n",
       "      <td>-0.819391</td>\n",
       "      <td>1.697448</td>\n",
       "      <td>...</td>\n",
       "      <td>1.567271</td>\n",
       "      <td>0.439157</td>\n",
       "      <td>1.142295</td>\n",
       "      <td>0.454192</td>\n",
       "      <td>-1.029340</td>\n",
       "      <td>1.330304</td>\n",
       "      <td>0.271756</td>\n",
       "      <td>1.620959</td>\n",
       "      <td>0.432092</td>\n",
       "      <td>0.280439</td>\n",
       "    </tr>\n",
       "    <tr>\n",
       "      <th>4</th>\n",
       "      <td>0.0</td>\n",
       "      <td>1.0</td>\n",
       "      <td>0.0</td>\n",
       "      <td>1.0</td>\n",
       "      <td>1.0</td>\n",
       "      <td>0.0</td>\n",
       "      <td>0.0</td>\n",
       "      <td>0.416123</td>\n",
       "      <td>0.743877</td>\n",
       "      <td>-0.111464</td>\n",
       "      <td>...</td>\n",
       "      <td>-1.534887</td>\n",
       "      <td>1.221663</td>\n",
       "      <td>0.378911</td>\n",
       "      <td>-0.309582</td>\n",
       "      <td>1.272386</td>\n",
       "      <td>0.573484</td>\n",
       "      <td>1.125422</td>\n",
       "      <td>0.159495</td>\n",
       "      <td>1.189764</td>\n",
       "      <td>1.130819</td>\n",
       "    </tr>\n",
       "  </tbody>\n",
       "</table>\n",
       "<p>5 rows × 24 columns</p>\n",
       "</div>"
      ],
      "text/plain": [
       "    0    1    2    3    4    5    6         7         8         9   ...  \\\n",
       "0  0.0  1.0  1.0  0.0  1.0  0.0  0.0  1.211898  1.661366  0.558503  ...   \n",
       "1  0.0  1.0  0.0  1.0  0.0  1.0  0.0  0.175758  2.145266 -1.853380  ...   \n",
       "2  0.0  1.0  0.0  1.0  0.0  1.0  0.0  0.624872 -0.819391 -1.317406  ...   \n",
       "3  0.0  1.0  1.0  0.0  1.0  0.0  0.0  1.214399 -0.819391  1.697448  ...   \n",
       "4  0.0  1.0  0.0  1.0  1.0  0.0  0.0  0.416123  0.743877 -0.111464  ...   \n",
       "\n",
       "         14        15        16        17        18        19        20  \\\n",
       "0 -0.759347 -0.343350  1.142295 -0.309582  1.272386 -0.940158 -0.581910   \n",
       "1  0.791732  1.221663 -0.384474  1.217966 -0.262098 -1.696979  1.125422   \n",
       "2  1.567271 -0.343350  0.378911  1.217966  0.505144  0.573484  0.271756   \n",
       "3  1.567271  0.439157  1.142295  0.454192 -1.029340  1.330304  0.271756   \n",
       "4 -1.534887  1.221663  0.378911 -0.309582  1.272386  0.573484  1.125422   \n",
       "\n",
       "         21        22        23  \n",
       "0 -0.571238 -0.325580 -0.569940  \n",
       "1 -1.301970 -0.325580  1.130819  \n",
       "2  1.620959  0.432092  1.130819  \n",
       "3  1.620959  0.432092  0.280439  \n",
       "4  0.159495  1.189764  1.130819  \n",
       "\n",
       "[5 rows x 24 columns]"
      ]
     },
     "execution_count": 6,
     "metadata": {},
     "output_type": "execute_result"
    }
   ],
   "source": [
    "X_train.head()"
   ]
  },
  {
   "cell_type": "code",
   "execution_count": 7,
   "id": "2403c319",
   "metadata": {},
   "outputs": [
    {
     "data": {
      "text/html": [
       "<div>\n",
       "<style scoped>\n",
       "    .dataframe tbody tr th:only-of-type {\n",
       "        vertical-align: middle;\n",
       "    }\n",
       "\n",
       "    .dataframe tbody tr th {\n",
       "        vertical-align: top;\n",
       "    }\n",
       "\n",
       "    .dataframe thead th {\n",
       "        text-align: right;\n",
       "    }\n",
       "</style>\n",
       "<table border=\"1\" class=\"dataframe\">\n",
       "  <thead>\n",
       "    <tr style=\"text-align: right;\">\n",
       "      <th></th>\n",
       "      <th>0</th>\n",
       "    </tr>\n",
       "  </thead>\n",
       "  <tbody>\n",
       "    <tr>\n",
       "      <th>0</th>\n",
       "      <td>1.0</td>\n",
       "    </tr>\n",
       "    <tr>\n",
       "      <th>1</th>\n",
       "      <td>0.0</td>\n",
       "    </tr>\n",
       "    <tr>\n",
       "      <th>2</th>\n",
       "      <td>1.0</td>\n",
       "    </tr>\n",
       "    <tr>\n",
       "      <th>3</th>\n",
       "      <td>1.0</td>\n",
       "    </tr>\n",
       "    <tr>\n",
       "      <th>4</th>\n",
       "      <td>0.0</td>\n",
       "    </tr>\n",
       "  </tbody>\n",
       "</table>\n",
       "</div>"
      ],
      "text/plain": [
       "     0\n",
       "0  1.0\n",
       "1  0.0\n",
       "2  1.0\n",
       "3  1.0\n",
       "4  0.0"
      ]
     },
     "execution_count": 7,
     "metadata": {},
     "output_type": "execute_result"
    }
   ],
   "source": [
    "y_train.head()"
   ]
  },
  {
   "cell_type": "markdown",
   "id": "739bbc24",
   "metadata": {},
   "source": [
    "## Everything is fine let's go for the model :)"
   ]
  },
  {
   "cell_type": "markdown",
   "id": "59f756dd",
   "metadata": {},
   "source": [
    "### As stated before our model works well on ensamble learning algorithms... so let's use them here"
   ]
  },
  {
   "cell_type": "markdown",
   "id": "6e17ff2d",
   "metadata": {},
   "source": [
    "### While choosing the model I will be concerned more concerned about `f1 score`  <br>and that is because it is the harmonic mean of Precision and Recall and gives a better measure of the incorrectly classified cases than the Accuracy Metric. <br>  And since that my data target isn't specified weather you want to measure of the correctly identified positive cases from all the predicted positive cases (Precision).<br> OR you want to  measure of the correctly identified positive cases from all the actual positive cases (Recall). <br><br><br><br><br><br>"
   ]
  },
  {
   "cell_type": "markdown",
   "id": "e08589c7",
   "metadata": {},
   "source": [
    "## Ok Let's go and see some models : <br><br><br><br>"
   ]
  },
  {
   "cell_type": "markdown",
   "id": "b39779c8",
   "metadata": {},
   "source": [
    "# ----------------------------------------------------------------------------------------------------------"
   ]
  },
  {
   "cell_type": "markdown",
   "id": "4a84dab4",
   "metadata": {},
   "source": [
    "<h1><Font color='#3495eb' size=6>Random Forest :<font><h1>"
   ]
  },
  {
   "cell_type": "code",
   "execution_count": 8,
   "id": "3b10c9fa",
   "metadata": {},
   "outputs": [
    {
     "name": "stdout",
     "output_type": "stream",
     "text": [
      "Train f1 score : 0.9999889237176434\n",
      "avg cv f1 score :  0.9584494948231432\n",
      "test f1 score : 0.9558541266794625\n"
     ]
    }
   ],
   "source": [
    "rf = RandomForestClassifier()\n",
    "rf.fit(X_train,y_train)\n",
    "\n",
    "train_score = rf.predict(X_train)\n",
    "print('Train f1 score :',f1_score(train_score,y_train))\n",
    "\n",
    "scores = cross_validate(rf, X_train, y_train, cv=5, scoring=['f1'])\n",
    "print(\"avg cv f1 score : \", scores['test_f1'].mean())\n",
    "\n",
    "pred = rf.predict(X_test)\n",
    "print('test f1 score :',f1_score(pred,y_test))"
   ]
  },
  {
   "cell_type": "markdown",
   "id": "81334554",
   "metadata": {},
   "source": [
    "### More Insight about model performance on test data :"
   ]
  },
  {
   "cell_type": "code",
   "execution_count": 9,
   "id": "c49083e2",
   "metadata": {},
   "outputs": [
    {
     "name": "stdout",
     "output_type": "stream",
     "text": [
      "Model accuracy :  0.9619263935940868\n",
      "Model precision :  0.9631195466402807\n",
      "Model recall :  0.9486975013290803\n",
      "model roc_auc score :  0.9603936791873448\n"
     ]
    },
    {
     "data": {
      "image/png": "[encoded data removed]",
      "text/plain": [
       "<Figure size 1440x432 with 1 Axes>"
      ]
     },
     "metadata": {
      "needs_background": "light"
     },
     "output_type": "display_data"
    }
   ],
   "source": [
    "cnf_matrix = confusion_matrix(y_test,pred)\n",
    "np.set_printoptions()\n",
    "\n",
    "print('Model accuracy : ', accuracy_score(y_test,pred))\n",
    "print('Model precision : ', precision_score(y_test,pred))\n",
    "print('Model recall : ', recall_score(y_test,pred))\n",
    "print('model roc_auc score : ', roc_auc_score(y_test,pred))\n",
    "\n",
    "plt.figure(figsize=(20, 6))\n",
    "sns.heatmap(cnf_matrix,cmap='Blues',annot=True,annot_kws={\"fontsize\":20},fmt='.6g',cbar=False)\n",
    "\n",
    "plt.xlabel('Predicted labels')\n",
    "plt.ylabel('True labels')\n",
    "plt.show()"
   ]
  },
  {
   "cell_type": "markdown",
   "id": "2b312ab1",
   "metadata": {},
   "source": [
    "### Notes on <Font color='#3495eb'>Random Forest<font> :\n",
    "> - Very Low bias error <br><br>\n",
    "> - relatively high variance (high train set overfitting)<br><br>\n",
    "> - No validation set overfitting"
   ]
  },
  {
   "cell_type": "markdown",
   "id": "1ab631d7",
   "metadata": {},
   "source": [
    "#### Generally random forest is good... I will try to do some Hyper-tunning on it to reduce variance, if that worked then this will be my model\n"
   ]
  },
  {
   "cell_type": "markdown",
   "id": "17bad1b9",
   "metadata": {},
   "source": [
    "# ----------------------------------------------------------------------------------------------------------"
   ]
  },
  {
   "cell_type": "markdown",
   "id": "0f6401f0",
   "metadata": {},
   "source": [
    "<h1><Font color='#3495eb' size=6>LGBM Classifier :<font><h1>"
   ]
  },
  {
   "cell_type": "code",
   "execution_count": 10,
   "id": "50b69961",
   "metadata": {},
   "outputs": [
    {
     "name": "stdout",
     "output_type": "stream",
     "text": [
      "Train f1 score : 0.9639967637540453\n",
      "avg cv f1 score :  0.9605400004863419\n",
      "test f1 score : 0.9582269979852249\n"
     ]
    }
   ],
   "source": [
    "lgbm = LGBMClassifier()\n",
    "lgbm.fit(X_train,y_train)\n",
    "\n",
    "train_score = lgbm.predict(X_train)\n",
    "print('Train f1 score :',f1_score(train_score,y_train))\n",
    "\n",
    "scores = cross_validate(lgbm, X_train, y_train, cv=5, scoring=['f1'])\n",
    "print(\"avg cv f1 score : \", scores['test_f1'].mean())\n",
    "\n",
    "pred = lgbm.predict(X_test)\n",
    "print('test f1 score :',f1_score(pred,y_test))"
   ]
  },
  {
   "cell_type": "markdown",
   "id": "6f72df6d",
   "metadata": {},
   "source": [
    "### More Insight about model performance on test data :"
   ]
  },
  {
   "cell_type": "code",
   "execution_count": 11,
   "id": "1f7d0109",
   "metadata": {},
   "outputs": [
    {
     "name": "stdout",
     "output_type": "stream",
     "text": [
      "Model accuracy :  0.9640822297505389\n",
      "Model precision :  0.968503937007874\n",
      "Model recall :  0.9481658692185008\n",
      "model roc_auc score :  0.9622381422334846\n"
     ]
    },
    {
     "data": {
      "image/png": "[encoded data removed]",
      "text/plain": [
       "<Figure size 1440x432 with 1 Axes>"
      ]
     },
     "metadata": {
      "needs_background": "light"
     },
     "output_type": "display_data"
    }
   ],
   "source": [
    "cnf_matrix = confusion_matrix(y_test,pred)\n",
    "\n",
    "print('Model accuracy : ', accuracy_score(y_test,pred))\n",
    "print('Model precision : ', precision_score(y_test,pred))\n",
    "print('Model recall : ', recall_score(y_test,pred))\n",
    "print('model roc_auc score : ', roc_auc_score(y_test,pred))\n",
    "\n",
    "np.set_printoptions()\n",
    "\n",
    "plt.figure(figsize=(20, 6))\n",
    "sns.heatmap(cnf_matrix,cmap='Blues',annot=True,annot_kws={\"fontsize\":20},fmt='.6g',cbar=False)\n",
    "\n",
    "plt.xlabel('Predicted labels')\n",
    "plt.ylabel('True labels')\n",
    "plt.show()"
   ]
  },
  {
   "cell_type": "markdown",
   "id": "4cc2023d",
   "metadata": {},
   "source": [
    "### Notes on <Font color='#3495eb'>LGBM Classifier<font> :\n",
    "> - High bias error <br><br>\n",
    "> - Low variance (No train set overfitting)<br><br>\n",
    "> - No validation set overfitting"
   ]
  },
  {
   "cell_type": "markdown",
   "id": "cb41524c",
   "metadata": {},
   "source": [
    "#### LGBM is doing better on test than random forest and it is not overfitting, but it has high bias error, so if tunning random forest didn't work we will use the LGBM as our model"
   ]
  },
  {
   "cell_type": "markdown",
   "id": "c71fd340",
   "metadata": {},
   "source": [
    "# ----------------------------------------------------------------------------------------------------------"
   ]
  },
  {
   "cell_type": "markdown",
   "id": "52e7960b",
   "metadata": {},
   "source": [
    "<h1><Font color='#3495eb' size=6>Adaboast :<font><h1>"
   ]
  },
  {
   "cell_type": "code",
   "execution_count": 12,
   "id": "c73a3cd4",
   "metadata": {},
   "outputs": [
    {
     "name": "stdout",
     "output_type": "stream",
     "text": [
      "Train f1 score : 0.92461406803961\n",
      "avg cv f1 score :  0.9249281669527972\n",
      "test f1 score : 0.9176998153521498\n"
     ]
    }
   ],
   "source": [
    "ada = AdaBoostClassifier()\n",
    "ada.fit(X_train,y_train)\n",
    "\n",
    "train_score = ada.predict(X_train)\n",
    "print('Train f1 score :',f1_score(train_score,y_train))\n",
    "\n",
    "scores = cross_validate(ada, X_train, y_train, cv=5, scoring=['f1'])\n",
    "print(\"avg cv f1 score : \", scores['test_f1'].mean())\n",
    "\n",
    "pred = ada.predict(X_test)\n",
    "print('test f1 score :',f1_score(pred,y_test))"
   ]
  },
  {
   "cell_type": "markdown",
   "id": "8be92bb5",
   "metadata": {},
   "source": [
    "### More Insight about model performance on test data :"
   ]
  },
  {
   "cell_type": "code",
   "execution_count": 13,
   "id": "b47832c5",
   "metadata": {},
   "outputs": [
    {
     "name": "stdout",
     "output_type": "stream",
     "text": [
      "Model accuracy :  0.9279334770557438\n",
      "Model precision :  0.9107329842931937\n",
      "Model recall :  0.9247740563530037\n",
      "model roc_auc score :  0.9275674230029145\n"
     ]
    },
    {
     "data": {
      "image/png": "[encoded data removed]",
      "text/plain": [
       "<Figure size 1440x432 with 1 Axes>"
      ]
     },
     "metadata": {
      "needs_background": "light"
     },
     "output_type": "display_data"
    }
   ],
   "source": [
    "cnf_matrix = confusion_matrix(y_test,pred)\n",
    "np.set_printoptions()\n",
    "\n",
    "print('Model accuracy : ', accuracy_score(y_test,pred))\n",
    "print('Model precision : ', precision_score(y_test,pred))\n",
    "print('Model recall : ', recall_score(y_test,pred))\n",
    "print('model roc_auc score : ', roc_auc_score(y_test,pred))\n",
    "\n",
    "plt.figure(figsize=(20, 6))\n",
    "sns.heatmap(cnf_matrix,cmap='Blues',annot=True,annot_kws={\"fontsize\":20},fmt='.6g',cbar=False)\n",
    "\n",
    "plt.xlabel('Predicted labels')\n",
    "plt.ylabel('True labels')\n",
    "plt.show()"
   ]
  },
  {
   "cell_type": "markdown",
   "id": "c5c9fb25",
   "metadata": {},
   "source": [
    "### Notes on <Font color='#3495eb'>Adaboast<font> :\n",
    "> - High bias error <br><br>\n",
    "> - Low variance (No train set overfitting)<br><br>\n",
    "> - Little validation set overfitting"
   ]
  },
  {
   "cell_type": "markdown",
   "id": "ccd288cd",
   "metadata": {},
   "source": [
    "#### Compared to previous classifiers.... Adaboast ain't good at all"
   ]
  },
  {
   "cell_type": "markdown",
   "id": "c4bacd4f",
   "metadata": {},
   "source": [
    "# ----------------------------------------------------------------------------------------------------------"
   ]
  },
  {
   "cell_type": "markdown",
   "id": "6e962cc7",
   "metadata": {},
   "source": [
    "<h1><Font color='#3495eb' size=6>Extra Trees :<font><h1>"
   ]
  },
  {
   "cell_type": "code",
   "execution_count": 14,
   "id": "269a41b4",
   "metadata": {},
   "outputs": [
    {
     "name": "stdout",
     "output_type": "stream",
     "text": [
      "Train f1 score : 1.0\n",
      "avg cv f1 score :  0.9567487941802488\n",
      "test f1 score : 0.9535661715509166\n"
     ]
    }
   ],
   "source": [
    "et = ExtraTreesClassifier()\n",
    "\n",
    "et.fit(X_train,y_train)\n",
    "\n",
    "train_score = et.predict(X_train)\n",
    "print('Train f1 score :',f1_score(train_score,y_train))\n",
    "\n",
    "scores = cross_validate(et, X_train, y_train, cv=5, scoring=['f1'])\n",
    "print(\"avg cv f1 score : \", scores['test_f1'].mean())\n",
    "\n",
    "pred = et.predict(X_test)\n",
    "print('test f1 score :',f1_score(pred,y_test))"
   ]
  },
  {
   "cell_type": "markdown",
   "id": "594cf427",
   "metadata": {},
   "source": [
    "### More Insight about model performance on test data :"
   ]
  },
  {
   "cell_type": "code",
   "execution_count": 15,
   "id": "24644ae1",
   "metadata": {},
   "outputs": [
    {
     "name": "stdout",
     "output_type": "stream",
     "text": [
      "Model accuracy :  0.9599245457345241\n",
      "Model precision :  0.9601185664241444\n",
      "Model recall :  0.9471026049973419\n",
      "model roc_auc score :  0.9584389811916594\n"
     ]
    },
    {
     "data": {
      "image/png": "[encoded data removed]",
      "text/plain": [
       "<Figure size 1440x432 with 1 Axes>"
      ]
     },
     "metadata": {
      "needs_background": "light"
     },
     "output_type": "display_data"
    }
   ],
   "source": [
    "cnf_matrix = confusion_matrix(y_test,pred)\n",
    "np.set_printoptions()\n",
    "\n",
    "print('Model accuracy : ', accuracy_score(y_test,pred))\n",
    "print('Model precision : ', precision_score(y_test,pred))\n",
    "print('Model recall : ', recall_score(y_test,pred))\n",
    "print('model roc_auc score : ', roc_auc_score(y_test,pred))\n",
    "\n",
    "plt.figure(figsize=(20, 6))\n",
    "sns.heatmap(cnf_matrix,cmap='Blues',annot=True,annot_kws={\"fontsize\":20},fmt='.6g',cbar=False)\n",
    "\n",
    "plt.xlabel('Predicted labels')\n",
    "plt.ylabel('True labels')\n",
    "plt.show()"
   ]
  },
  {
   "cell_type": "markdown",
   "id": "008b27f7",
   "metadata": {},
   "source": [
    "### Notes on <Font color='#3495eb'>ExtraTrees <font> :\n",
    "> - Very low bias error <br><br>\n",
    "> - High variance (there is train set overfitting)<br><br>\n",
    "> - No validation set overfitting"
   ]
  },
  {
   "cell_type": "markdown",
   "id": "a4a892ef",
   "metadata": {},
   "source": [
    "#### Just like the random forest... although random forest is much better, but we can try to tune that also "
   ]
  },
  {
   "cell_type": "markdown",
   "id": "123c8b16",
   "metadata": {},
   "source": [
    "# ----------------------------------------------------------------------------------------------------------"
   ]
  },
  {
   "cell_type": "markdown",
   "id": "91092e1e",
   "metadata": {},
   "source": [
    "<h1><Font color='#3495eb' size=6>Voting classifier :</font></h1>\n",
    "<h5>Using (Random Forest, ExtraTrees, LGBM Classifier)<h5>"
   ]
  },
  {
   "cell_type": "code",
   "execution_count": 16,
   "id": "8aca99b4",
   "metadata": {},
   "outputs": [
    {
     "name": "stdout",
     "output_type": "stream",
     "text": [
      "Train f1 score : 1.0\n",
      "avg cv f1 score :  0.9596018484565565\n",
      "test f1 score : 0.9572214027088642\n"
     ]
    }
   ],
   "source": [
    "rf = RandomForestClassifier()\n",
    "voting_clf = ExtraTreesClassifier()\n",
    "lgbm = LGBMClassifier()\n",
    "\n",
    "voting_clf = VotingClassifier(\n",
    "     estimators=[('rf', rf), ('voting_clf', voting_clf), ('lgbm', lgbm)],\n",
    "     voting='hard')\n",
    "\n",
    "voting_clf.fit(X_train,y_train)\n",
    "\n",
    "train_score = voting_clf.predict(X_train)\n",
    "print('Train f1 score :',f1_score(train_score,y_train))\n",
    "\n",
    "scores = cross_validate(voting_clf, X_train, y_train, cv=5, scoring=['f1'])\n",
    "print(\"avg cv f1 score : \", scores['test_f1'].mean())\n",
    "\n",
    "pred = voting_clf.predict(X_test)\n",
    "print('test f1 score :',f1_score(pred,y_test))"
   ]
  },
  {
   "cell_type": "markdown",
   "id": "73bb8f0e",
   "metadata": {},
   "source": [
    "### More Insight about model performance on test data :"
   ]
  },
  {
   "cell_type": "code",
   "execution_count": 17,
   "id": "518acce6",
   "metadata": {},
   "outputs": [
    {
     "name": "stdout",
     "output_type": "stream",
     "text": [
      "Model accuracy :  0.9631582999692023\n",
      "Model precision :  0.9658998646820027\n",
      "Model recall :  0.9486975013290803\n",
      "model roc_auc score :  0.96148285549776\n"
     ]
    },
    {
     "data": {
      "image/png": "[encoded data removed]",
      "text/plain": [
       "<Figure size 1440x432 with 1 Axes>"
      ]
     },
     "metadata": {
      "needs_background": "light"
     },
     "output_type": "display_data"
    }
   ],
   "source": [
    "cnf_matrix = confusion_matrix(y_test,pred)\n",
    "np.set_printoptions()\n",
    "\n",
    "print('Model accuracy : ', accuracy_score(y_test,pred))\n",
    "print('Model precision : ', precision_score(y_test,pred))\n",
    "print('Model recall : ', recall_score(y_test,pred))\n",
    "print('model roc_auc score : ', roc_auc_score(y_test,pred))\n",
    "\n",
    "plt.figure(figsize=(20, 6))\n",
    "sns.heatmap(cnf_matrix,cmap='Blues',annot=True,annot_kws={\"fontsize\":20},fmt='.6g',cbar=False)\n",
    "\n",
    "plt.xlabel('Predicted labels')\n",
    "plt.ylabel('True labels')\n",
    "plt.show()"
   ]
  },
  {
   "cell_type": "markdown",
   "id": "00b2c3a3",
   "metadata": {},
   "source": [
    "### Notes on <Font color='#3495eb'>Voting classifiers<font> :\n",
    "> - Very low bias error <br><br>\n",
    "> - High variance (there is train set overfitting)<br><br>\n",
    "> - No validation set overfitting"
   ]
  },
  {
   "cell_type": "markdown",
   "id": "4da807e2",
   "metadata": {},
   "source": [
    "#### Sadly voting 3 classifiers didn't make the model better than Random Forest (which was one of the voted classifiers), and it take much time to train so... for now I will go for random forest"
   ]
  },
  {
   "cell_type": "markdown",
   "id": "b478ce73",
   "metadata": {},
   "source": [
    "# ----------------------------------------------------------------------------------------------------------"
   ]
  },
  {
   "cell_type": "markdown",
   "id": "ca68ace3",
   "metadata": {},
   "source": [
    "<h1><Font color='#3495eb' size=6>Bagging classifier :</font></h1>\n",
    "<h5>Using (Decision Tree, Bootstrap=True (for bagging))<h5>"
   ]
  },
  {
   "cell_type": "code",
   "execution_count": 18,
   "id": "1e346fad",
   "metadata": {},
   "outputs": [
    {
     "name": "stdout",
     "output_type": "stream",
     "text": [
      "Train f1 score : 0.9126895876884756\n",
      "avg cv f1 score :  0.9121394689103924\n",
      "test f1 score : 0.9035626535626535\n"
     ]
    }
   ],
   "source": [
    "bag_clf = BaggingClassifier(\n",
    "    DecisionTreeClassifier(), n_estimators=500,\n",
    "    max_samples=100, bootstrap=True, n_jobs=-1)\n",
    "\n",
    "bag_clf.fit(X_train,y_train)\n",
    "\n",
    "train_score = bag_clf.predict(X_train)\n",
    "print('Train f1 score :',f1_score(train_score,y_train))\n",
    "\n",
    "scores = cross_validate(bag_clf, X_train, y_train, cv=5, scoring=['f1'])\n",
    "print(\"avg cv f1 score : \", scores['test_f1'].mean())\n",
    "\n",
    "pred = bag_clf.predict(X_test)\n",
    "print('test f1 score :',f1_score(pred,y_test))"
   ]
  },
  {
   "cell_type": "markdown",
   "id": "16f3305a",
   "metadata": {},
   "source": [
    "### More Insight about model performance on test data :"
   ]
  },
  {
   "cell_type": "code",
   "execution_count": 19,
   "id": "f61423be",
   "metadata": {},
   "outputs": [
    {
     "name": "stdout",
     "output_type": "stream",
     "text": [
      "Model accuracy :  0.9153834308592547\n",
      "Model precision :  0.8949243872762037\n",
      "Model recall :  0.9123693071061492\n",
      "model roc_auc score :  0.9150342110751983\n"
     ]
    },
    {
     "data": {
      "image/png": "[encoded data removed]",
      "text/plain": [
       "<Figure size 1440x432 with 1 Axes>"
      ]
     },
     "metadata": {
      "needs_background": "light"
     },
     "output_type": "display_data"
    }
   ],
   "source": [
    "cnf_matrix = confusion_matrix(y_test,pred)\n",
    "np.set_printoptions()\n",
    "\n",
    "print('Model accuracy : ', accuracy_score(y_test,pred))\n",
    "print('Model precision : ', precision_score(y_test,pred))\n",
    "print('Model recall : ', recall_score(y_test,pred))\n",
    "print('model roc_auc score : ', roc_auc_score(y_test,pred))\n",
    "\n",
    "plt.figure(figsize=(20, 6))\n",
    "sns.heatmap(cnf_matrix,cmap='Blues',annot=True,annot_kws={\"fontsize\":20},fmt='.6g',cbar=False)\n",
    "\n",
    "plt.xlabel('Predicted labels')\n",
    "plt.ylabel('True labels')\n",
    "plt.show()"
   ]
  },
  {
   "cell_type": "markdown",
   "id": "0386b24b",
   "metadata": {},
   "source": [
    "### Notes on <Font color='#3495eb'>Bagging classifiers with bootstap=True<font> :\n",
    "> - Very low High error <br><br>\n",
    "> - Low variance (there is train set overfitting)<br><br>\n",
    "> - Little validation set overfitting"
   ]
  },
  {
   "cell_type": "markdown",
   "id": "a42875e2",
   "metadata": {},
   "source": [
    "#### I didn't expect that.... I assumed that bagging will have a good Performance, but it didn't"
   ]
  },
  {
   "cell_type": "markdown",
   "id": "93aa35f4",
   "metadata": {},
   "source": [
    "# ----------------------------------------------------------------------------------------------------------"
   ]
  },
  {
   "cell_type": "markdown",
   "id": "ccb646d9",
   "metadata": {},
   "source": [
    "## Let's do grid search and see if there is something better..."
   ]
  },
  {
   "cell_type": "code",
   "execution_count": 20,
   "id": "61765046",
   "metadata": {},
   "outputs": [
    {
     "data": {
      "text/plain": [
       "{'max_depth': 25, 'max_features': 12, 'n_estimators': 300}"
      ]
     },
     "execution_count": 20,
     "metadata": {},
     "output_type": "execute_result"
    }
   ],
   "source": [
    "rf_tune = RandomForestClassifier(n_jobs=-1)\n",
    "\n",
    "param_grid = [{'n_estimators': [300, 280],'max_features': [10, 12],'max_depth': [25,30]}]\n",
    "\n",
    "grid_search = GridSearchCV(rf_tune, param_grid, cv=4, refit=True,scoring='f1',return_train_score=True)\n",
    "grid_search.fit(X_train, y_train)\n",
    "grid_search.best_params_"
   ]
  },
  {
   "cell_type": "code",
   "execution_count": 21,
   "id": "f08fe6b1",
   "metadata": {},
   "outputs": [
    {
     "name": "stdout",
     "output_type": "stream",
     "text": [
      "0.9600971729668694 {'max_depth': 25, 'max_features': 10, 'n_estimators': 300}\n",
      "0.9600983828618566 {'max_depth': 25, 'max_features': 10, 'n_estimators': 280}\n",
      "0.9603794338122345 {'max_depth': 25, 'max_features': 12, 'n_estimators': 300}\n",
      "0.9602658099266863 {'max_depth': 25, 'max_features': 12, 'n_estimators': 280}\n",
      "0.9600638468947078 {'max_depth': 30, 'max_features': 10, 'n_estimators': 300}\n",
      "0.9601540728030098 {'max_depth': 30, 'max_features': 10, 'n_estimators': 280}\n",
      "0.9600051124323414 {'max_depth': 30, 'max_features': 12, 'n_estimators': 300}\n",
      "0.960135484511909 {'max_depth': 30, 'max_features': 12, 'n_estimators': 280}\n"
     ]
    }
   ],
   "source": [
    "cvres = grid_search.cv_results_\n",
    "for mean_score, params in zip(cvres[\"mean_test_score\"], cvres[\"params\"]):\n",
    "    print(mean_score, params)"
   ]
  },
  {
   "cell_type": "code",
   "execution_count": 22,
   "id": "7814166b",
   "metadata": {},
   "outputs": [
    {
     "name": "stdout",
     "output_type": "stream",
     "text": [
      "Train f1 score : 0.999822753960341\n",
      "avg cv f1 score :  0.96014038275062\n",
      "test f1 score : 0.9589862989164502\n"
     ]
    }
   ],
   "source": [
    "rf_tune = RandomForestClassifier(max_depth = 30, max_features = 10, n_estimators = 300,n_jobs=-1)\n",
    "\n",
    "rf_tune.fit(X_train,y_train)\n",
    "\n",
    "train_score = rf_tune.predict(X_train)\n",
    "print('Train f1 score :',f1_score(train_score,y_train))\n",
    "\n",
    "scores = cross_validate(rf_tune, X_train, y_train, cv=5, scoring=['f1'])\n",
    "print(\"avg cv f1 score : \", scores['test_f1'].mean())\n",
    "\n",
    "pred = rf_tune.predict(X_test)\n",
    "print('test f1 score :',f1_score(pred,y_test))"
   ]
  },
  {
   "cell_type": "code",
   "execution_count": 23,
   "id": "a74c79bc",
   "metadata": {},
   "outputs": [
    {
     "name": "stdout",
     "output_type": "stream",
     "text": [
      "Model accuracy :  0.964736680012319\n",
      "Model precision :  0.9693157132512672\n",
      "Model recall :  0.9488747120326068\n",
      "model roc_auc score :  0.9628988944778417\n"
     ]
    },
    {
     "data": {
      "image/png": "[encoded data removed]",
      "text/plain": [
       "<Figure size 1440x432 with 1 Axes>"
      ]
     },
     "metadata": {
      "needs_background": "light"
     },
     "output_type": "display_data"
    }
   ],
   "source": [
    "cnf_matrix = confusion_matrix(y_test,pred)\n",
    "np.set_printoptions()\n",
    "\n",
    "print('Model accuracy : ', accuracy_score(y_test,pred))\n",
    "print('Model precision : ', precision_score(y_test,pred))\n",
    "print('Model recall : ', recall_score(y_test,pred))\n",
    "print('model roc_auc score : ', roc_auc_score(y_test,pred))\n",
    "\n",
    "plt.figure(figsize=(20, 6))\n",
    "sns.heatmap(cnf_matrix,cmap='Blues',annot=True,annot_kws={\"fontsize\":20},fmt='.6g',cbar=False)\n",
    "\n",
    "plt.xlabel('Predicted labels')\n",
    "plt.ylabel('True labels')\n",
    "plt.show()"
   ]
  },
  {
   "cell_type": "markdown",
   "id": "2986cae8",
   "metadata": {},
   "source": [
    "### Ok at least we get a little better :)"
   ]
  },
  {
   "cell_type": "markdown",
   "id": "cd9da61d",
   "metadata": {},
   "source": [
    "### Now the best model is for the tuned random forest.... and there is still place to decrease the variance again and build better model... I may try to do this later"
   ]
  },
  {
   "cell_type": "markdown",
   "id": "3c48626f",
   "metadata": {},
   "source": [
    "<br><br><br><br><br><br>"
   ]
  },
  {
   "cell_type": "markdown",
   "id": "e99f51ba",
   "metadata": {},
   "source": [
    "## Before we go let's try a deep learning approach and see where will it take us to\n",
    "<br><br><br><br><br><br>"
   ]
  },
  {
   "cell_type": "markdown",
   "id": "c2ef8440",
   "metadata": {},
   "source": [
    "<h1><Font color='#3495eb' size=6>Building small Neural Network :<font><h1>"
   ]
  },
  {
   "cell_type": "code",
   "execution_count": 24,
   "id": "dbfa7689",
   "metadata": {
    "scrolled": false
   },
   "outputs": [
    {
     "name": "stdout",
     "output_type": "stream",
     "text": [
      "Epoch 1/200\n",
      "142/142 [==============================] - 2s 3ms/step - loss: 0.4818 - accuracy: 0.7755 - val_loss: 0.3266 - val_accuracy: 0.8692\n",
      "Epoch 2/200\n",
      "142/142 [==============================] - 0s 1ms/step - loss: 0.2622 - accuracy: 0.8949 - val_loss: 0.2302 - val_accuracy: 0.9067\n",
      "Epoch 3/200\n",
      "142/142 [==============================] - 0s 1ms/step - loss: 0.2033 - accuracy: 0.9181 - val_loss: 0.1982 - val_accuracy: 0.9173\n",
      "Epoch 4/200\n",
      "142/142 [==============================] - 0s 1ms/step - loss: 0.1789 - accuracy: 0.9276 - val_loss: 0.1786 - val_accuracy: 0.9266\n",
      "Epoch 5/200\n",
      "142/142 [==============================] - 0s 1ms/step - loss: 0.1641 - accuracy: 0.9324 - val_loss: 0.1672 - val_accuracy: 0.9289\n",
      "Epoch 6/200\n",
      "142/142 [==============================] - 0s 1ms/step - loss: 0.1555 - accuracy: 0.9355 - val_loss: 0.1637 - val_accuracy: 0.9286\n",
      "Epoch 7/200\n",
      "142/142 [==============================] - 0s 1ms/step - loss: 0.1489 - accuracy: 0.9368 - val_loss: 0.1537 - val_accuracy: 0.9333\n",
      "Epoch 8/200\n",
      "142/142 [==============================] - 0s 1ms/step - loss: 0.1437 - accuracy: 0.9392 - val_loss: 0.1504 - val_accuracy: 0.9363\n",
      "Epoch 9/200\n",
      "142/142 [==============================] - 0s 1ms/step - loss: 0.1404 - accuracy: 0.9407 - val_loss: 0.1451 - val_accuracy: 0.9370\n",
      "Epoch 10/200\n",
      "142/142 [==============================] - 0s 1ms/step - loss: 0.1364 - accuracy: 0.9422 - val_loss: 0.1426 - val_accuracy: 0.9359\n",
      "Epoch 11/200\n",
      "142/142 [==============================] - 0s 1ms/step - loss: 0.1335 - accuracy: 0.9430 - val_loss: 0.1399 - val_accuracy: 0.9382\n",
      "Epoch 12/200\n",
      "142/142 [==============================] - 0s 1ms/step - loss: 0.1319 - accuracy: 0.9441 - val_loss: 0.1372 - val_accuracy: 0.9397\n",
      "Epoch 13/200\n",
      "142/142 [==============================] - 0s 1ms/step - loss: 0.1290 - accuracy: 0.9451 - val_loss: 0.1384 - val_accuracy: 0.9396\n",
      "Epoch 14/200\n",
      "142/142 [==============================] - 0s 1ms/step - loss: 0.1274 - accuracy: 0.9461 - val_loss: 0.1332 - val_accuracy: 0.9414\n",
      "Epoch 15/200\n",
      "142/142 [==============================] - 0s 1ms/step - loss: 0.1252 - accuracy: 0.9464 - val_loss: 0.1317 - val_accuracy: 0.9433\n",
      "Epoch 16/200\n",
      "142/142 [==============================] - 0s 1ms/step - loss: 0.1242 - accuracy: 0.9468 - val_loss: 0.1295 - val_accuracy: 0.9437\n",
      "Epoch 17/200\n",
      "142/142 [==============================] - 0s 1ms/step - loss: 0.1223 - accuracy: 0.9483 - val_loss: 0.1293 - val_accuracy: 0.9422\n",
      "Epoch 18/200\n",
      "142/142 [==============================] - 0s 1ms/step - loss: 0.1204 - accuracy: 0.9482 - val_loss: 0.1280 - val_accuracy: 0.9433\n",
      "Epoch 19/200\n",
      "142/142 [==============================] - 0s 1ms/step - loss: 0.1196 - accuracy: 0.9490 - val_loss: 0.1279 - val_accuracy: 0.9448\n",
      "Epoch 20/200\n",
      "142/142 [==============================] - 0s 1ms/step - loss: 0.1183 - accuracy: 0.9492 - val_loss: 0.1254 - val_accuracy: 0.9442\n",
      "Epoch 21/200\n",
      "142/142 [==============================] - 0s 1ms/step - loss: 0.1165 - accuracy: 0.9499 - val_loss: 0.1266 - val_accuracy: 0.9430\n",
      "Epoch 22/200\n",
      "142/142 [==============================] - 0s 1ms/step - loss: 0.1160 - accuracy: 0.9496 - val_loss: 0.1234 - val_accuracy: 0.9452\n",
      "Epoch 23/200\n",
      "142/142 [==============================] - 0s 1ms/step - loss: 0.1158 - accuracy: 0.9497 - val_loss: 0.1237 - val_accuracy: 0.9473\n",
      "Epoch 24/200\n",
      "142/142 [==============================] - 0s 1ms/step - loss: 0.1141 - accuracy: 0.9508 - val_loss: 0.1217 - val_accuracy: 0.9464\n",
      "Epoch 25/200\n",
      "142/142 [==============================] - 0s 1ms/step - loss: 0.1127 - accuracy: 0.9519 - val_loss: 0.1217 - val_accuracy: 0.9445\n",
      "Epoch 26/200\n",
      "142/142 [==============================] - 0s 1ms/step - loss: 0.1129 - accuracy: 0.9514 - val_loss: 0.1202 - val_accuracy: 0.9471\n",
      "Epoch 27/200\n",
      "142/142 [==============================] - 0s 1ms/step - loss: 0.1119 - accuracy: 0.9517 - val_loss: 0.1190 - val_accuracy: 0.9479\n",
      "Epoch 28/200\n",
      "142/142 [==============================] - 0s 1ms/step - loss: 0.1108 - accuracy: 0.9519 - val_loss: 0.1205 - val_accuracy: 0.9461\n",
      "Epoch 29/200\n",
      "142/142 [==============================] - 0s 1ms/step - loss: 0.1103 - accuracy: 0.9525 - val_loss: 0.1194 - val_accuracy: 0.9482\n",
      "Epoch 30/200\n",
      "142/142 [==============================] - 0s 1ms/step - loss: 0.1100 - accuracy: 0.9526 - val_loss: 0.1189 - val_accuracy: 0.9474\n",
      "Epoch 31/200\n",
      "142/142 [==============================] - 0s 1ms/step - loss: 0.1093 - accuracy: 0.9529 - val_loss: 0.1180 - val_accuracy: 0.9459\n",
      "Epoch 32/200\n",
      "142/142 [==============================] - 0s 1ms/step - loss: 0.1086 - accuracy: 0.9532 - val_loss: 0.1177 - val_accuracy: 0.9480\n",
      "Epoch 33/200\n",
      "142/142 [==============================] - 0s 1ms/step - loss: 0.1079 - accuracy: 0.9531 - val_loss: 0.1183 - val_accuracy: 0.9482\n",
      "Epoch 34/200\n",
      "142/142 [==============================] - 0s 1ms/step - loss: 0.1080 - accuracy: 0.9540 - val_loss: 0.1160 - val_accuracy: 0.9489\n",
      "Epoch 35/200\n",
      "142/142 [==============================] - 0s 1ms/step - loss: 0.1068 - accuracy: 0.9542 - val_loss: 0.1149 - val_accuracy: 0.9484\n",
      "Epoch 36/200\n",
      "142/142 [==============================] - 0s 2ms/step - loss: 0.1059 - accuracy: 0.9543 - val_loss: 0.1163 - val_accuracy: 0.9475\n",
      "Epoch 37/200\n",
      "142/142 [==============================] - 0s 1ms/step - loss: 0.1066 - accuracy: 0.9543 - val_loss: 0.1141 - val_accuracy: 0.9489\n",
      "Epoch 38/200\n",
      "142/142 [==============================] - 0s 1ms/step - loss: 0.1054 - accuracy: 0.9543 - val_loss: 0.1175 - val_accuracy: 0.9493\n",
      "Epoch 39/200\n",
      "142/142 [==============================] - 0s 1ms/step - loss: 0.1052 - accuracy: 0.9546 - val_loss: 0.1154 - val_accuracy: 0.9489\n",
      "Epoch 40/200\n",
      "142/142 [==============================] - 0s 1ms/step - loss: 0.1048 - accuracy: 0.9549 - val_loss: 0.1172 - val_accuracy: 0.9450\n",
      "Epoch 41/200\n",
      "142/142 [==============================] - 0s 1ms/step - loss: 0.1047 - accuracy: 0.9546 - val_loss: 0.1160 - val_accuracy: 0.9499\n",
      "Epoch 42/200\n",
      "142/142 [==============================] - 0s 1ms/step - loss: 0.1041 - accuracy: 0.9553 - val_loss: 0.1139 - val_accuracy: 0.9500\n",
      "Epoch 43/200\n",
      "142/142 [==============================] - 0s 1ms/step - loss: 0.1034 - accuracy: 0.9558 - val_loss: 0.1129 - val_accuracy: 0.9498\n",
      "Epoch 44/200\n",
      "142/142 [==============================] - 0s 1ms/step - loss: 0.1031 - accuracy: 0.9548 - val_loss: 0.1130 - val_accuracy: 0.9500\n",
      "Epoch 45/200\n",
      "142/142 [==============================] - 0s 1ms/step - loss: 0.1027 - accuracy: 0.9545 - val_loss: 0.1121 - val_accuracy: 0.9494\n",
      "Epoch 46/200\n",
      "142/142 [==============================] - 0s 1ms/step - loss: 0.1026 - accuracy: 0.9549 - val_loss: 0.1184 - val_accuracy: 0.9433\n",
      "Epoch 47/200\n",
      "142/142 [==============================] - 0s 1ms/step - loss: 0.1025 - accuracy: 0.9551 - val_loss: 0.1116 - val_accuracy: 0.9493\n",
      "Epoch 48/200\n",
      "142/142 [==============================] - 0s 1ms/step - loss: 0.1013 - accuracy: 0.9561 - val_loss: 0.1105 - val_accuracy: 0.9501\n",
      "Epoch 49/200\n",
      "142/142 [==============================] - 0s 1ms/step - loss: 0.1024 - accuracy: 0.9554 - val_loss: 0.1113 - val_accuracy: 0.9507\n",
      "Epoch 50/200\n",
      "142/142 [==============================] - 0s 1ms/step - loss: 0.1011 - accuracy: 0.9563 - val_loss: 0.1134 - val_accuracy: 0.9481\n",
      "Epoch 51/200\n",
      "142/142 [==============================] - 0s 1ms/step - loss: 0.1014 - accuracy: 0.9555 - val_loss: 0.1102 - val_accuracy: 0.9503\n",
      "Epoch 52/200\n",
      "142/142 [==============================] - 0s 1ms/step - loss: 0.1007 - accuracy: 0.9558 - val_loss: 0.1132 - val_accuracy: 0.9493\n",
      "Epoch 53/200\n",
      "142/142 [==============================] - 0s 1ms/step - loss: 0.1010 - accuracy: 0.9557 - val_loss: 0.1096 - val_accuracy: 0.9508\n",
      "Epoch 54/200\n",
      "142/142 [==============================] - 0s 1ms/step - loss: 0.1006 - accuracy: 0.9558 - val_loss: 0.1162 - val_accuracy: 0.9472\n",
      "Epoch 55/200\n",
      "142/142 [==============================] - 0s 1ms/step - loss: 0.1006 - accuracy: 0.9554 - val_loss: 0.1097 - val_accuracy: 0.9492\n",
      "Epoch 56/200\n",
      "142/142 [==============================] - 0s 1ms/step - loss: 0.1002 - accuracy: 0.9559 - val_loss: 0.1094 - val_accuracy: 0.9507\n",
      "Epoch 57/200\n",
      "142/142 [==============================] - 0s 2ms/step - loss: 0.0998 - accuracy: 0.9564 - val_loss: 0.1131 - val_accuracy: 0.9462\n"
     ]
    },
    {
     "name": "stdout",
     "output_type": "stream",
     "text": [
      "Epoch 58/200\n",
      "142/142 [==============================] - 0s 1ms/step - loss: 0.0996 - accuracy: 0.9565 - val_loss: 0.1092 - val_accuracy: 0.9511\n",
      "Epoch 59/200\n",
      "142/142 [==============================] - 0s 1ms/step - loss: 0.0990 - accuracy: 0.9566 - val_loss: 0.1099 - val_accuracy: 0.9515\n",
      "Epoch 60/200\n",
      "142/142 [==============================] - 0s 1ms/step - loss: 0.0991 - accuracy: 0.9566 - val_loss: 0.1090 - val_accuracy: 0.9494\n",
      "Epoch 61/200\n",
      "142/142 [==============================] - 0s 1ms/step - loss: 0.0998 - accuracy: 0.9557 - val_loss: 0.1082 - val_accuracy: 0.9502\n",
      "Epoch 62/200\n",
      "142/142 [==============================] - 0s 1ms/step - loss: 0.0986 - accuracy: 0.9565 - val_loss: 0.1074 - val_accuracy: 0.9522\n",
      "Epoch 63/200\n",
      "142/142 [==============================] - 0s 1ms/step - loss: 0.0984 - accuracy: 0.9567 - val_loss: 0.1071 - val_accuracy: 0.9514\n",
      "Epoch 64/200\n",
      "142/142 [==============================] - 0s 1ms/step - loss: 0.0987 - accuracy: 0.9563 - val_loss: 0.1079 - val_accuracy: 0.9492\n",
      "Epoch 65/200\n",
      "142/142 [==============================] - 0s 1ms/step - loss: 0.0992 - accuracy: 0.9564 - val_loss: 0.1074 - val_accuracy: 0.9510\n",
      "Epoch 66/200\n",
      "142/142 [==============================] - 0s 1ms/step - loss: 0.0992 - accuracy: 0.9566 - val_loss: 0.1074 - val_accuracy: 0.9517\n",
      "Epoch 67/200\n",
      "142/142 [==============================] - 0s 1ms/step - loss: 0.0975 - accuracy: 0.9569 - val_loss: 0.1085 - val_accuracy: 0.9512\n",
      "Epoch 68/200\n",
      "142/142 [==============================] - 0s 1ms/step - loss: 0.0978 - accuracy: 0.9570 - val_loss: 0.1082 - val_accuracy: 0.9519\n",
      "Epoch 69/200\n",
      "142/142 [==============================] - 0s 1ms/step - loss: 0.0986 - accuracy: 0.9564 - val_loss: 0.1067 - val_accuracy: 0.9519\n",
      "Epoch 70/200\n",
      "142/142 [==============================] - 0s 1ms/step - loss: 0.0978 - accuracy: 0.9565 - val_loss: 0.1085 - val_accuracy: 0.9513\n",
      "Epoch 71/200\n",
      "142/142 [==============================] - 0s 1ms/step - loss: 0.0982 - accuracy: 0.9564 - val_loss: 0.1095 - val_accuracy: 0.9488\n",
      "Epoch 72/200\n",
      "142/142 [==============================] - 0s 1ms/step - loss: 0.0984 - accuracy: 0.9563 - val_loss: 0.1098 - val_accuracy: 0.9499\n",
      "Epoch 73/200\n",
      "142/142 [==============================] - 0s 1ms/step - loss: 0.0976 - accuracy: 0.9568 - val_loss: 0.1064 - val_accuracy: 0.9521\n",
      "Epoch 74/200\n",
      "142/142 [==============================] - 0s 1ms/step - loss: 0.0974 - accuracy: 0.9573 - val_loss: 0.1068 - val_accuracy: 0.9503\n",
      "Epoch 75/200\n",
      "142/142 [==============================] - 0s 1ms/step - loss: 0.0972 - accuracy: 0.9572 - val_loss: 0.1070 - val_accuracy: 0.9513\n",
      "Epoch 76/200\n",
      "142/142 [==============================] - 0s 1ms/step - loss: 0.0969 - accuracy: 0.9576 - val_loss: 0.1070 - val_accuracy: 0.9514\n",
      "Epoch 77/200\n",
      "142/142 [==============================] - 0s 1ms/step - loss: 0.0970 - accuracy: 0.9571 - val_loss: 0.1056 - val_accuracy: 0.9515\n",
      "Epoch 78/200\n",
      "142/142 [==============================] - 0s 1ms/step - loss: 0.0972 - accuracy: 0.9569 - val_loss: 0.1072 - val_accuracy: 0.9517\n",
      "Epoch 79/200\n",
      "142/142 [==============================] - 0s 1ms/step - loss: 0.0964 - accuracy: 0.9574 - val_loss: 0.1087 - val_accuracy: 0.9489\n",
      "Epoch 80/200\n",
      "142/142 [==============================] - 0s 1ms/step - loss: 0.0959 - accuracy: 0.9574 - val_loss: 0.1066 - val_accuracy: 0.9511\n",
      "Epoch 81/200\n",
      "142/142 [==============================] - 0s 1ms/step - loss: 0.0961 - accuracy: 0.9578 - val_loss: 0.1069 - val_accuracy: 0.9512\n",
      "Epoch 82/200\n",
      "142/142 [==============================] - 0s 1ms/step - loss: 0.0968 - accuracy: 0.9570 - val_loss: 0.1136 - val_accuracy: 0.9497\n",
      "Epoch 83/200\n",
      "142/142 [==============================] - 0s 1ms/step - loss: 0.0970 - accuracy: 0.9567 - val_loss: 0.1059 - val_accuracy: 0.9519\n",
      "Epoch 84/200\n",
      "142/142 [==============================] - 0s 1ms/step - loss: 0.0967 - accuracy: 0.9570 - val_loss: 0.1070 - val_accuracy: 0.9495\n",
      "Epoch 85/200\n",
      "142/142 [==============================] - 0s 1ms/step - loss: 0.0959 - accuracy: 0.9571 - val_loss: 0.1053 - val_accuracy: 0.9526\n",
      "Epoch 86/200\n",
      "142/142 [==============================] - 0s 1ms/step - loss: 0.0964 - accuracy: 0.9567 - val_loss: 0.1052 - val_accuracy: 0.9524\n",
      "Epoch 87/200\n",
      "142/142 [==============================] - 0s 1ms/step - loss: 0.0963 - accuracy: 0.9573 - val_loss: 0.1054 - val_accuracy: 0.9519\n",
      "Epoch 88/200\n",
      "142/142 [==============================] - 0s 1ms/step - loss: 0.0966 - accuracy: 0.9568 - val_loss: 0.1071 - val_accuracy: 0.9515\n",
      "Epoch 89/200\n",
      "142/142 [==============================] - 0s 1ms/step - loss: 0.0961 - accuracy: 0.9576 - val_loss: 0.1047 - val_accuracy: 0.9522\n",
      "Epoch 90/200\n",
      "142/142 [==============================] - 0s 1ms/step - loss: 0.0955 - accuracy: 0.9578 - val_loss: 0.1061 - val_accuracy: 0.9511\n",
      "Epoch 91/200\n",
      "142/142 [==============================] - 0s 1ms/step - loss: 0.0952 - accuracy: 0.9575 - val_loss: 0.1054 - val_accuracy: 0.9524\n",
      "Epoch 92/200\n",
      "142/142 [==============================] - 0s 1ms/step - loss: 0.0957 - accuracy: 0.9580 - val_loss: 0.1053 - val_accuracy: 0.9514\n",
      "Epoch 93/200\n",
      "142/142 [==============================] - 0s 1ms/step - loss: 0.0951 - accuracy: 0.9579 - val_loss: 0.1060 - val_accuracy: 0.9529\n",
      "Epoch 94/200\n",
      "142/142 [==============================] - 0s 1ms/step - loss: 0.0969 - accuracy: 0.9568 - val_loss: 0.1066 - val_accuracy: 0.9517\n",
      "Epoch 95/200\n",
      "142/142 [==============================] - 0s 1ms/step - loss: 0.0949 - accuracy: 0.9577 - val_loss: 0.1066 - val_accuracy: 0.9515\n",
      "Epoch 96/200\n",
      "142/142 [==============================] - 0s 1ms/step - loss: 0.0947 - accuracy: 0.9580 - val_loss: 0.1050 - val_accuracy: 0.9524\n",
      "Epoch 97/200\n",
      "142/142 [==============================] - 0s 1ms/step - loss: 0.0953 - accuracy: 0.9575 - val_loss: 0.1043 - val_accuracy: 0.9528\n",
      "Epoch 98/200\n",
      "142/142 [==============================] - 0s 1ms/step - loss: 0.0946 - accuracy: 0.9581 - val_loss: 0.1056 - val_accuracy: 0.9508\n",
      "Epoch 99/200\n",
      "142/142 [==============================] - 0s 1ms/step - loss: 0.0946 - accuracy: 0.9585 - val_loss: 0.1053 - val_accuracy: 0.9515\n",
      "Epoch 100/200\n",
      "142/142 [==============================] - 0s 1ms/step - loss: 0.0954 - accuracy: 0.9577 - val_loss: 0.1053 - val_accuracy: 0.9514\n",
      "Epoch 101/200\n",
      "142/142 [==============================] - 0s 1ms/step - loss: 0.0945 - accuracy: 0.9580 - val_loss: 0.1057 - val_accuracy: 0.9526\n",
      "Epoch 102/200\n",
      "142/142 [==============================] - 0s 1ms/step - loss: 0.0946 - accuracy: 0.9581 - val_loss: 0.1055 - val_accuracy: 0.9523\n",
      "Epoch 103/200\n",
      "142/142 [==============================] - 0s 1ms/step - loss: 0.0953 - accuracy: 0.9576 - val_loss: 0.1051 - val_accuracy: 0.9520\n",
      "Epoch 104/200\n",
      "142/142 [==============================] - 0s 1ms/step - loss: 0.0952 - accuracy: 0.9576 - val_loss: 0.1062 - val_accuracy: 0.9515\n",
      "Epoch 105/200\n",
      "142/142 [==============================] - 0s 1ms/step - loss: 0.0946 - accuracy: 0.9583 - val_loss: 0.1057 - val_accuracy: 0.9517\n",
      "Epoch 106/200\n",
      "142/142 [==============================] - 0s 1ms/step - loss: 0.0946 - accuracy: 0.9587 - val_loss: 0.1045 - val_accuracy: 0.9516\n",
      "Epoch 107/200\n",
      "142/142 [==============================] - 0s 1ms/step - loss: 0.0938 - accuracy: 0.9587 - val_loss: 0.1082 - val_accuracy: 0.9510\n",
      "Epoch 108/200\n",
      "142/142 [==============================] - 0s 1ms/step - loss: 0.0953 - accuracy: 0.9578 - val_loss: 0.1047 - val_accuracy: 0.9517\n",
      "Epoch 109/200\n",
      "142/142 [==============================] - 0s 1ms/step - loss: 0.0943 - accuracy: 0.9587 - val_loss: 0.1065 - val_accuracy: 0.9520\n",
      "Epoch 110/200\n",
      "142/142 [==============================] - 0s 1ms/step - loss: 0.0946 - accuracy: 0.9582 - val_loss: 0.1049 - val_accuracy: 0.9522\n",
      "Epoch 111/200\n",
      "142/142 [==============================] - 0s 1ms/step - loss: 0.0938 - accuracy: 0.9587 - val_loss: 0.1057 - val_accuracy: 0.9522\n",
      "Epoch 112/200\n",
      "142/142 [==============================] - 0s 1ms/step - loss: 0.0944 - accuracy: 0.9581 - val_loss: 0.1052 - val_accuracy: 0.9518\n",
      "Epoch 113/200\n",
      "142/142 [==============================] - 0s 1ms/step - loss: 0.0941 - accuracy: 0.9584 - val_loss: 0.1066 - val_accuracy: 0.9466\n",
      "Epoch 114/200\n",
      "142/142 [==============================] - 0s 1ms/step - loss: 0.0945 - accuracy: 0.9576 - val_loss: 0.1048 - val_accuracy: 0.9525\n"
     ]
    },
    {
     "name": "stdout",
     "output_type": "stream",
     "text": [
      "Epoch 115/200\n",
      "142/142 [==============================] - 0s 1ms/step - loss: 0.0941 - accuracy: 0.9582 - val_loss: 0.1065 - val_accuracy: 0.9504\n",
      "Epoch 116/200\n",
      "142/142 [==============================] - 0s 1ms/step - loss: 0.0936 - accuracy: 0.9587 - val_loss: 0.1071 - val_accuracy: 0.9502\n",
      "Epoch 117/200\n",
      "142/142 [==============================] - 0s 1ms/step - loss: 0.0941 - accuracy: 0.9582 - val_loss: 0.1057 - val_accuracy: 0.9515\n",
      "Epoch 118/200\n",
      "142/142 [==============================] - 0s 1ms/step - loss: 0.0930 - accuracy: 0.9589 - val_loss: 0.1055 - val_accuracy: 0.9526\n",
      "Epoch 119/200\n",
      "142/142 [==============================] - 0s 1ms/step - loss: 0.0937 - accuracy: 0.9586 - val_loss: 0.1093 - val_accuracy: 0.9508\n",
      "Epoch 120/200\n",
      "142/142 [==============================] - 0s 2ms/step - loss: 0.0942 - accuracy: 0.9583 - val_loss: 0.1074 - val_accuracy: 0.9522\n",
      "Epoch 121/200\n",
      "142/142 [==============================] - 0s 1ms/step - loss: 0.0941 - accuracy: 0.9583 - val_loss: 0.1057 - val_accuracy: 0.9515\n",
      "Epoch 122/200\n",
      "142/142 [==============================] - 0s 1ms/step - loss: 0.0934 - accuracy: 0.9587 - val_loss: 0.1050 - val_accuracy: 0.9519\n",
      "Epoch 123/200\n",
      "142/142 [==============================] - 0s 1ms/step - loss: 0.0938 - accuracy: 0.9584 - val_loss: 0.1048 - val_accuracy: 0.9524\n",
      "Epoch 124/200\n",
      "142/142 [==============================] - 0s 1ms/step - loss: 0.0934 - accuracy: 0.9587 - val_loss: 0.1054 - val_accuracy: 0.9511\n",
      "Epoch 125/200\n",
      "142/142 [==============================] - 0s 1ms/step - loss: 0.0933 - accuracy: 0.9589 - val_loss: 0.1041 - val_accuracy: 0.9512\n",
      "Epoch 126/200\n",
      "142/142 [==============================] - 0s 1ms/step - loss: 0.0948 - accuracy: 0.9578 - val_loss: 0.1071 - val_accuracy: 0.9494\n",
      "Epoch 127/200\n",
      "142/142 [==============================] - 0s 1ms/step - loss: 0.0938 - accuracy: 0.9587 - val_loss: 0.1056 - val_accuracy: 0.9525\n",
      "Epoch 128/200\n",
      "142/142 [==============================] - 0s 1ms/step - loss: 0.0931 - accuracy: 0.9584 - val_loss: 0.1050 - val_accuracy: 0.9529\n",
      "Epoch 129/200\n",
      "142/142 [==============================] - 0s 1ms/step - loss: 0.0932 - accuracy: 0.9583 - val_loss: 0.1058 - val_accuracy: 0.9509\n",
      "Epoch 130/200\n",
      "142/142 [==============================] - 0s 1ms/step - loss: 0.0931 - accuracy: 0.9584 - val_loss: 0.1045 - val_accuracy: 0.9528\n",
      "Epoch 131/200\n",
      "142/142 [==============================] - 0s 1ms/step - loss: 0.0933 - accuracy: 0.9588 - val_loss: 0.1039 - val_accuracy: 0.9529\n",
      "Epoch 132/200\n",
      "142/142 [==============================] - 0s 1ms/step - loss: 0.0927 - accuracy: 0.9589 - val_loss: 0.1053 - val_accuracy: 0.9529\n",
      "Epoch 133/200\n",
      "142/142 [==============================] - 0s 1ms/step - loss: 0.0924 - accuracy: 0.9593 - val_loss: 0.1050 - val_accuracy: 0.9520\n",
      "Epoch 134/200\n",
      "142/142 [==============================] - 0s 1ms/step - loss: 0.0933 - accuracy: 0.9582 - val_loss: 0.1070 - val_accuracy: 0.9495\n",
      "Epoch 135/200\n",
      "142/142 [==============================] - 0s 1ms/step - loss: 0.0929 - accuracy: 0.9587 - val_loss: 0.1064 - val_accuracy: 0.9522\n",
      "Epoch 136/200\n",
      "142/142 [==============================] - 0s 1ms/step - loss: 0.0929 - accuracy: 0.9587 - val_loss: 0.1058 - val_accuracy: 0.9523\n",
      "Epoch 137/200\n",
      "142/142 [==============================] - 0s 1ms/step - loss: 0.0931 - accuracy: 0.9586 - val_loss: 0.1045 - val_accuracy: 0.9532\n",
      "Epoch 138/200\n",
      "142/142 [==============================] - 0s 1ms/step - loss: 0.0926 - accuracy: 0.9589 - val_loss: 0.1054 - val_accuracy: 0.9523\n",
      "Epoch 139/200\n",
      "142/142 [==============================] - 0s 1ms/step - loss: 0.0927 - accuracy: 0.9589 - val_loss: 0.1067 - val_accuracy: 0.9522\n",
      "Epoch 140/200\n",
      "142/142 [==============================] - 0s 1ms/step - loss: 0.0930 - accuracy: 0.9588 - val_loss: 0.1034 - val_accuracy: 0.9534\n",
      "Epoch 141/200\n",
      "142/142 [==============================] - 0s 1ms/step - loss: 0.0924 - accuracy: 0.9584 - val_loss: 0.1045 - val_accuracy: 0.9533\n",
      "Epoch 142/200\n",
      "142/142 [==============================] - 0s 1ms/step - loss: 0.0934 - accuracy: 0.9583 - val_loss: 0.1047 - val_accuracy: 0.9524\n",
      "Epoch 143/200\n",
      "142/142 [==============================] - 0s 1ms/step - loss: 0.0926 - accuracy: 0.9593 - val_loss: 0.1045 - val_accuracy: 0.9523\n",
      "Epoch 144/200\n",
      "142/142 [==============================] - 0s 1ms/step - loss: 0.0927 - accuracy: 0.9587 - val_loss: 0.1051 - val_accuracy: 0.9528\n",
      "Epoch 145/200\n",
      "142/142 [==============================] - 0s 1ms/step - loss: 0.0925 - accuracy: 0.9592 - val_loss: 0.1051 - val_accuracy: 0.9524\n",
      "Epoch 146/200\n",
      "142/142 [==============================] - 0s 1ms/step - loss: 0.0921 - accuracy: 0.9592 - val_loss: 0.1042 - val_accuracy: 0.9528\n",
      "Epoch 147/200\n",
      "142/142 [==============================] - 0s 1ms/step - loss: 0.0923 - accuracy: 0.9593 - val_loss: 0.1040 - val_accuracy: 0.9525\n",
      "Epoch 148/200\n",
      "142/142 [==============================] - 0s 1ms/step - loss: 0.0922 - accuracy: 0.9591 - val_loss: 0.1042 - val_accuracy: 0.9535\n",
      "Epoch 149/200\n",
      "142/142 [==============================] - 0s 1ms/step - loss: 0.0921 - accuracy: 0.9587 - val_loss: 0.1051 - val_accuracy: 0.9527\n",
      "Epoch 150/200\n",
      "142/142 [==============================] - 0s 1ms/step - loss: 0.0923 - accuracy: 0.9593 - val_loss: 0.1074 - val_accuracy: 0.9521\n",
      "Epoch 151/200\n",
      "142/142 [==============================] - 0s 1ms/step - loss: 0.0931 - accuracy: 0.9585 - val_loss: 0.1042 - val_accuracy: 0.9531\n",
      "Epoch 152/200\n",
      "142/142 [==============================] - 0s 1ms/step - loss: 0.0922 - accuracy: 0.9593 - val_loss: 0.1083 - val_accuracy: 0.9515\n",
      "Epoch 153/200\n",
      "142/142 [==============================] - 0s 1ms/step - loss: 0.0925 - accuracy: 0.9589 - val_loss: 0.1040 - val_accuracy: 0.9530\n",
      "Epoch 154/200\n",
      "142/142 [==============================] - 0s 1ms/step - loss: 0.0923 - accuracy: 0.9596 - val_loss: 0.1064 - val_accuracy: 0.9512\n",
      "Epoch 155/200\n",
      "142/142 [==============================] - 0s 1ms/step - loss: 0.0922 - accuracy: 0.9587 - val_loss: 0.1035 - val_accuracy: 0.9533\n",
      "Epoch 156/200\n",
      "142/142 [==============================] - 0s 1ms/step - loss: 0.0924 - accuracy: 0.9587 - val_loss: 0.1047 - val_accuracy: 0.9538\n",
      "Epoch 157/200\n",
      "142/142 [==============================] - 0s 1ms/step - loss: 0.0924 - accuracy: 0.9594 - val_loss: 0.1028 - val_accuracy: 0.9528\n",
      "Epoch 158/200\n",
      "142/142 [==============================] - 0s 1ms/step - loss: 0.0921 - accuracy: 0.9593 - val_loss: 0.1049 - val_accuracy: 0.9529\n",
      "Epoch 159/200\n",
      "142/142 [==============================] - 0s 1ms/step - loss: 0.0928 - accuracy: 0.9588 - val_loss: 0.1036 - val_accuracy: 0.9530\n",
      "Epoch 160/200\n",
      "142/142 [==============================] - 0s 1ms/step - loss: 0.0917 - accuracy: 0.9597 - val_loss: 0.1044 - val_accuracy: 0.9513\n",
      "Epoch 161/200\n",
      "142/142 [==============================] - 0s 1ms/step - loss: 0.0919 - accuracy: 0.9595 - val_loss: 0.1066 - val_accuracy: 0.9529\n",
      "Epoch 162/200\n",
      "142/142 [==============================] - 0s 1ms/step - loss: 0.0921 - accuracy: 0.9589 - val_loss: 0.1036 - val_accuracy: 0.9523\n",
      "Epoch 163/200\n",
      "142/142 [==============================] - 0s 1ms/step - loss: 0.0922 - accuracy: 0.9594 - val_loss: 0.1053 - val_accuracy: 0.9519\n",
      "Epoch 164/200\n",
      "142/142 [==============================] - 0s 1ms/step - loss: 0.0921 - accuracy: 0.9591 - val_loss: 0.1049 - val_accuracy: 0.9533\n",
      "Epoch 165/200\n",
      "142/142 [==============================] - 0s 1ms/step - loss: 0.0924 - accuracy: 0.9587 - val_loss: 0.1035 - val_accuracy: 0.9518\n",
      "Epoch 166/200\n",
      "142/142 [==============================] - 0s 1ms/step - loss: 0.0914 - accuracy: 0.9597 - val_loss: 0.1038 - val_accuracy: 0.9531\n",
      "Epoch 167/200\n",
      "142/142 [==============================] - 0s 1ms/step - loss: 0.0916 - accuracy: 0.9597 - val_loss: 0.1045 - val_accuracy: 0.9529\n",
      "Epoch 168/200\n",
      "142/142 [==============================] - 0s 1ms/step - loss: 0.0922 - accuracy: 0.9593 - val_loss: 0.1040 - val_accuracy: 0.9531\n",
      "Epoch 169/200\n",
      "142/142 [==============================] - 0s 1ms/step - loss: 0.0911 - accuracy: 0.9603 - val_loss: 0.1044 - val_accuracy: 0.9531\n",
      "Epoch 170/200\n",
      "142/142 [==============================] - 0s 1ms/step - loss: 0.0917 - accuracy: 0.9597 - val_loss: 0.1036 - val_accuracy: 0.9531\n",
      "Epoch 171/200\n"
     ]
    },
    {
     "name": "stdout",
     "output_type": "stream",
     "text": [
      "142/142 [==============================] - 0s 1ms/step - loss: 0.0916 - accuracy: 0.9597 - val_loss: 0.1037 - val_accuracy: 0.9529\n",
      "Epoch 172/200\n",
      "142/142 [==============================] - 0s 1ms/step - loss: 0.0915 - accuracy: 0.9593 - val_loss: 0.1084 - val_accuracy: 0.9489\n",
      "Epoch 173/200\n",
      "142/142 [==============================] - 0s 1ms/step - loss: 0.0927 - accuracy: 0.9587 - val_loss: 0.1051 - val_accuracy: 0.9509\n",
      "Epoch 174/200\n",
      "142/142 [==============================] - 0s 1ms/step - loss: 0.0918 - accuracy: 0.9590 - val_loss: 0.1050 - val_accuracy: 0.9534\n",
      "Epoch 175/200\n",
      "142/142 [==============================] - 0s 1ms/step - loss: 0.0927 - accuracy: 0.9593 - val_loss: 0.1039 - val_accuracy: 0.9537\n",
      "Epoch 176/200\n",
      "142/142 [==============================] - 0s 1ms/step - loss: 0.0915 - accuracy: 0.9594 - val_loss: 0.1062 - val_accuracy: 0.9524\n",
      "Epoch 177/200\n",
      "142/142 [==============================] - 0s 1ms/step - loss: 0.0918 - accuracy: 0.9591 - val_loss: 0.1045 - val_accuracy: 0.9524\n",
      "Epoch 178/200\n",
      "142/142 [==============================] - 0s 1ms/step - loss: 0.0921 - accuracy: 0.9598 - val_loss: 0.1042 - val_accuracy: 0.9531\n",
      "Epoch 179/200\n",
      "142/142 [==============================] - 0s 1ms/step - loss: 0.0920 - accuracy: 0.9591 - val_loss: 0.1041 - val_accuracy: 0.9533\n",
      "Epoch 180/200\n",
      "142/142 [==============================] - 0s 1ms/step - loss: 0.0920 - accuracy: 0.9589 - val_loss: 0.1035 - val_accuracy: 0.9532\n",
      "Epoch 181/200\n",
      "142/142 [==============================] - 0s 1ms/step - loss: 0.0913 - accuracy: 0.9601 - val_loss: 0.1030 - val_accuracy: 0.9539\n",
      "Epoch 182/200\n",
      "142/142 [==============================] - 0s 1ms/step - loss: 0.0912 - accuracy: 0.9595 - val_loss: 0.1056 - val_accuracy: 0.9533\n",
      "Epoch 183/200\n",
      "142/142 [==============================] - 0s 1ms/step - loss: 0.0912 - accuracy: 0.9595 - val_loss: 0.1074 - val_accuracy: 0.9502\n",
      "Epoch 184/200\n",
      "142/142 [==============================] - 0s 1ms/step - loss: 0.0917 - accuracy: 0.9594 - val_loss: 0.1039 - val_accuracy: 0.9528\n",
      "Epoch 185/200\n",
      "142/142 [==============================] - 0s 1ms/step - loss: 0.0913 - accuracy: 0.9595 - val_loss: 0.1066 - val_accuracy: 0.9513\n",
      "Epoch 186/200\n",
      "142/142 [==============================] - 0s 1ms/step - loss: 0.0911 - accuracy: 0.9602 - val_loss: 0.1032 - val_accuracy: 0.9533\n",
      "Epoch 187/200\n",
      "142/142 [==============================] - 0s 1ms/step - loss: 0.0911 - accuracy: 0.9594 - val_loss: 0.1038 - val_accuracy: 0.9535\n",
      "Epoch 188/200\n",
      "142/142 [==============================] - 0s 1ms/step - loss: 0.0909 - accuracy: 0.9596 - val_loss: 0.1034 - val_accuracy: 0.9536\n",
      "Epoch 189/200\n",
      "142/142 [==============================] - 0s 1ms/step - loss: 0.0912 - accuracy: 0.9594 - val_loss: 0.1048 - val_accuracy: 0.9524\n",
      "Epoch 190/200\n",
      "142/142 [==============================] - 0s 1ms/step - loss: 0.0917 - accuracy: 0.9592 - val_loss: 0.1055 - val_accuracy: 0.9527\n",
      "Epoch 191/200\n",
      "142/142 [==============================] - 0s 1ms/step - loss: 0.0914 - accuracy: 0.9596 - val_loss: 0.1033 - val_accuracy: 0.9529\n",
      "Epoch 192/200\n",
      "142/142 [==============================] - 0s 1ms/step - loss: 0.0906 - accuracy: 0.9599 - val_loss: 0.1033 - val_accuracy: 0.9536\n",
      "Epoch 193/200\n",
      "142/142 [==============================] - 0s 1ms/step - loss: 0.0912 - accuracy: 0.9596 - val_loss: 0.1033 - val_accuracy: 0.9528\n",
      "Epoch 194/200\n",
      "142/142 [==============================] - 0s 1ms/step - loss: 0.0917 - accuracy: 0.9590 - val_loss: 0.1037 - val_accuracy: 0.9543\n",
      "Epoch 195/200\n",
      "142/142 [==============================] - 0s 1ms/step - loss: 0.0912 - accuracy: 0.9596 - val_loss: 0.1047 - val_accuracy: 0.9531\n",
      "Epoch 196/200\n",
      "142/142 [==============================] - 0s 1ms/step - loss: 0.0914 - accuracy: 0.9599 - val_loss: 0.1042 - val_accuracy: 0.9528\n",
      "Epoch 197/200\n",
      "142/142 [==============================] - 0s 1ms/step - loss: 0.0908 - accuracy: 0.9596 - val_loss: 0.1062 - val_accuracy: 0.9518\n",
      "Epoch 198/200\n",
      "142/142 [==============================] - 0s 1ms/step - loss: 0.0911 - accuracy: 0.9595 - val_loss: 0.1049 - val_accuracy: 0.9530\n",
      "Epoch 199/200\n",
      "142/142 [==============================] - 0s 1ms/step - loss: 0.0914 - accuracy: 0.9594 - val_loss: 0.1031 - val_accuracy: 0.9535\n",
      "Epoch 200/200\n",
      "142/142 [==============================] - 0s 1ms/step - loss: 0.0909 - accuracy: 0.9598 - val_loss: 0.1048 - val_accuracy: 0.9538\n"
     ]
    },
    {
     "data": {
      "text/plain": [
       "<keras.callbacks.History at 0x219030e1400>"
      ]
     },
     "execution_count": 24,
     "metadata": {},
     "output_type": "execute_result"
    }
   ],
   "source": [
    "early_stop= EarlyStopping(mode='min',verbose=1, patience=25)\n",
    "\n",
    "model=Sequential()\n",
    "\n",
    "model.add(Dense(units=16,activation='relu'))\n",
    "model.add(Dense(units=14,activation='relu'))\n",
    "model.add(Dense(units=8,activation='relu'))\n",
    "model.add(Dense(units=8,activation='relu'))\n",
    "model.add(Dense(units=6,activation='relu'))\n",
    "model.add(Dense(units=1,activation='sigmoid'))\n",
    "\n",
    "model.compile(loss='binary_crossentropy',optimizer='adam',metrics=['accuracy'])\n",
    "model.fit(x=X_train,y=y_train,epochs=200, batch_size=256*2,validation_split=0.2)"
   ]
  },
  {
   "cell_type": "code",
   "execution_count": 25,
   "id": "e1b29cb0",
   "metadata": {
    "scrolled": false
   },
   "outputs": [
    {
     "name": "stdout",
     "output_type": "stream",
     "text": [
      "Model: \"sequential\"\n",
      "_________________________________________________________________\n",
      " Layer (type)                Output Shape              Param #   \n",
      "=================================================================\n",
      " dense (Dense)               (None, 16)                400       \n",
      "                                                                 \n",
      " dense_1 (Dense)             (None, 14)                238       \n",
      "                                                                 \n",
      " dense_2 (Dense)             (None, 8)                 120       \n",
      "                                                                 \n",
      " dense_3 (Dense)             (None, 8)                 72        \n",
      "                                                                 \n",
      " dense_4 (Dense)             (None, 6)                 54        \n",
      "                                                                 \n",
      " dense_5 (Dense)             (None, 1)                 7         \n",
      "                                                                 \n",
      "=================================================================\n",
      "Total params: 891\n",
      "Trainable params: 891\n",
      "Non-trainable params: 0\n",
      "_________________________________________________________________\n"
     ]
    }
   ],
   "source": [
    "model.summary()"
   ]
  },
  {
   "cell_type": "code",
   "execution_count": 26,
   "id": "0a57a887",
   "metadata": {},
   "outputs": [
    {
     "name": "stdout",
     "output_type": "stream",
     "text": [
      "812/812 [==============================] - 1s 585us/step\n",
      "Model accuracy :  0.956575300277179\n",
      "Model precision :  0.9507454739084132\n",
      "Model recall :  0.9492291334396598\n",
      "model roc_auc score :  0.9557241650860654\n",
      "model f1 score :  0.9499866985900505\n"
     ]
    },
    {
     "data": {
      "image/png": "[encoded data removed]",
      "text/plain": [
       "<Figure size 1440x432 with 1 Axes>"
      ]
     },
     "metadata": {
      "needs_background": "light"
     },
     "output_type": "display_data"
    }
   ],
   "source": [
    "pred = model.predict(X_test)\n",
    "pred = (pred > 0.4)\n",
    "\n",
    "cnf_matrix = confusion_matrix(y_test,pred)\n",
    "np.set_printoptions()\n",
    "\n",
    "print('Model accuracy : ', accuracy_score(y_test,pred))\n",
    "print('Model precision : ', precision_score(y_test,pred))\n",
    "print('Model recall : ', recall_score(y_test,pred))\n",
    "print('model roc_auc score : ', roc_auc_score(y_test,pred))\n",
    "print('model f1 score : ',f1_score(y_test,pred))\n",
    "\n",
    "plt.figure(figsize=(20, 6))\n",
    "sns.heatmap(cnf_matrix,cmap='Blues',annot=True,annot_kws={\"fontsize\":20},fmt='.6g',cbar=False)\n",
    "\n",
    "plt.xlabel('Predicted labels')\n",
    "plt.ylabel('True labels')\n",
    "plt.show()"
   ]
  },
  {
   "cell_type": "markdown",
   "id": "211e2919",
   "metadata": {},
   "source": [
    "### Ok, we can still do many thing with this Neural Network, we can increase units or layers to decrease bias error... then we can use dropout to reduce variance"
   ]
  },
  {
   "cell_type": "markdown",
   "id": "27aa9972",
   "metadata": {},
   "source": [
    "## But for now the best made model goes for the tuned `Random Forest`"
   ]
  },
  {
   "cell_type": "code",
   "execution_count": 27,
   "id": "1b08deba",
   "metadata": {},
   "outputs": [
    {
     "data": {
      "text/plain": [
       "RandomForestClassifier(max_depth=30, max_features=10, n_estimators=300,\n",
       "                       n_jobs=-1)"
      ]
     },
     "execution_count": 27,
     "metadata": {},
     "output_type": "execute_result"
    }
   ],
   "source": [
    "rf_tune"
   ]
  },
  {
   "cell_type": "code",
   "execution_count": 28,
   "id": "e56e0819",
   "metadata": {},
   "outputs": [
    {
     "data": {
      "text/plain": [
       "['tuned_randomforest_model.pkl']"
      ]
     },
     "execution_count": 28,
     "metadata": {},
     "output_type": "execute_result"
    }
   ],
   "source": [
    "import joblib\n",
    "\n",
    "joblib.dump(rf_tune, 'tuned_randomforest_model.pkl')"
   ]
  },
  {
   "cell_type": "markdown",
   "id": "f1e7a82d",
   "metadata": {},
   "source": [
    "# Now this Model is saved and ready to be reloaded again :)"
   ]
  },
  {
   "cell_type": "markdown",
   "id": "ca2876f8",
   "metadata": {},
   "source": [
    "# Finally this is the End"
   ]
  }
 ],
 "metadata": {
  "kernelspec": {
   "display_name": "Python 3 (ipykernel)",
   "language": "python",
   "name": "python3"
  },
  "language_info": {
   "codemirror_mode": {
    "name": "ipython",
    "version": 3
   },
   "file_extension": ".py",
   "mimetype": "text/x-python",
   "name": "python",
   "nbconvert_exporter": "python",
   "pygments_lexer": "ipython3",
   "version": "3.9.12"
  }
 },
 "nbformat": 4,
 "nbformat_minor": 5
}
